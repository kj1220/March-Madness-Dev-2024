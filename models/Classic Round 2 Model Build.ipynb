{
 "cells": [
  {
   "cell_type": "code",
   "execution_count": 257,
   "id": "32f9cefa",
   "metadata": {},
   "outputs": [
    {
     "name": "stdout",
     "output_type": "stream",
     "text": [
      "(240, 42)\n"
     ]
    },
    {
     "data": {
      "text/html": [
       "<div>\n",
       "<style scoped>\n",
       "    .dataframe tbody tr th:only-of-type {\n",
       "        vertical-align: middle;\n",
       "    }\n",
       "\n",
       "    .dataframe tbody tr th {\n",
       "        vertical-align: top;\n",
       "    }\n",
       "\n",
       "    .dataframe thead th {\n",
       "        text-align: right;\n",
       "    }\n",
       "</style>\n",
       "<table border=\"1\" class=\"dataframe\">\n",
       "  <thead>\n",
       "    <tr style=\"text-align: right;\">\n",
       "      <th></th>\n",
       "      <th>year</th>\n",
       "      <th>region</th>\n",
       "      <th>round</th>\n",
       "      <th>high_bracket_seed</th>\n",
       "      <th>high_bracket_team</th>\n",
       "      <th>low_bracket_seed</th>\n",
       "      <th>low_bracket_team</th>\n",
       "      <th>win</th>\n",
       "      <th>ovr_rating_bpi</th>\n",
       "      <th>ovr_rating_kenpom</th>\n",
       "      <th>...</th>\n",
       "      <th>eff_def</th>\n",
       "      <th>ft%_def</th>\n",
       "      <th>height_eff</th>\n",
       "      <th>size</th>\n",
       "      <th>bench</th>\n",
       "      <th>adj_tempo</th>\n",
       "      <th>s_c</th>\n",
       "      <th>c_a</th>\n",
       "      <th>c_b</th>\n",
       "      <th>c_f</th>\n",
       "    </tr>\n",
       "  </thead>\n",
       "  <tbody>\n",
       "    <tr>\n",
       "      <th>0</th>\n",
       "      <td>2008</td>\n",
       "      <td>East</td>\n",
       "      <td>Second Round</td>\n",
       "      <td>1</td>\n",
       "      <td>2008 North Carolina</td>\n",
       "      <td>9</td>\n",
       "      <td>2008 Arkansas</td>\n",
       "      <td>1</td>\n",
       "      <td>10.5</td>\n",
       "      <td>13.2768</td>\n",
       "      <td>...</td>\n",
       "      <td>-11.3529</td>\n",
       "      <td>-0.7</td>\n",
       "      <td>-3.73</td>\n",
       "      <td>-0.08</td>\n",
       "      <td>-0.67</td>\n",
       "      <td>6.5</td>\n",
       "      <td>1</td>\n",
       "      <td>0</td>\n",
       "      <td>0</td>\n",
       "      <td>0</td>\n",
       "    </tr>\n",
       "    <tr>\n",
       "      <th>1</th>\n",
       "      <td>2008</td>\n",
       "      <td>East</td>\n",
       "      <td>Second Round</td>\n",
       "      <td>5</td>\n",
       "      <td>2008 Notre Dame</td>\n",
       "      <td>4</td>\n",
       "      <td>2008 Washington St.</td>\n",
       "      <td>0</td>\n",
       "      <td>-2.1</td>\n",
       "      <td>-4.7089</td>\n",
       "      <td>...</td>\n",
       "      <td>-13.7218</td>\n",
       "      <td>-8.7</td>\n",
       "      <td>0.00</td>\n",
       "      <td>-0.51</td>\n",
       "      <td>1.55</td>\n",
       "      <td>11.8</td>\n",
       "      <td>0</td>\n",
       "      <td>0</td>\n",
       "      <td>0</td>\n",
       "      <td>0</td>\n",
       "    </tr>\n",
       "    <tr>\n",
       "      <th>2</th>\n",
       "      <td>2008</td>\n",
       "      <td>East</td>\n",
       "      <td>Second Round</td>\n",
       "      <td>6</td>\n",
       "      <td>2008 Oklahoma</td>\n",
       "      <td>3</td>\n",
       "      <td>2008 Louisville</td>\n",
       "      <td>0</td>\n",
       "      <td>-6.6</td>\n",
       "      <td>-8.1229</td>\n",
       "      <td>...</td>\n",
       "      <td>-9.8128</td>\n",
       "      <td>8.3</td>\n",
       "      <td>1.64</td>\n",
       "      <td>1.23</td>\n",
       "      <td>-4.61</td>\n",
       "      <td>-2.2</td>\n",
       "      <td>0</td>\n",
       "      <td>0</td>\n",
       "      <td>0</td>\n",
       "      <td>0</td>\n",
       "    </tr>\n",
       "    <tr>\n",
       "      <th>3</th>\n",
       "      <td>2008</td>\n",
       "      <td>East</td>\n",
       "      <td>Second Round</td>\n",
       "      <td>7</td>\n",
       "      <td>2008 Butler</td>\n",
       "      <td>2</td>\n",
       "      <td>2008 Tennessee</td>\n",
       "      <td>0</td>\n",
       "      <td>-3.6</td>\n",
       "      <td>-3.0397</td>\n",
       "      <td>...</td>\n",
       "      <td>-17.8671</td>\n",
       "      <td>2.1</td>\n",
       "      <td>-3.28</td>\n",
       "      <td>-1.18</td>\n",
       "      <td>-6.83</td>\n",
       "      <td>-12.8</td>\n",
       "      <td>0</td>\n",
       "      <td>0</td>\n",
       "      <td>1</td>\n",
       "      <td>0</td>\n",
       "    </tr>\n",
       "    <tr>\n",
       "      <th>4</th>\n",
       "      <td>2008</td>\n",
       "      <td>Midwest</td>\n",
       "      <td>Second Round</td>\n",
       "      <td>1</td>\n",
       "      <td>2008 Kansas</td>\n",
       "      <td>8</td>\n",
       "      <td>2008 UNLV</td>\n",
       "      <td>1</td>\n",
       "      <td>13.3</td>\n",
       "      <td>20.3454</td>\n",
       "      <td>...</td>\n",
       "      <td>-16.3229</td>\n",
       "      <td>-6.7</td>\n",
       "      <td>3.48</td>\n",
       "      <td>0.45</td>\n",
       "      <td>2.76</td>\n",
       "      <td>2.9</td>\n",
       "      <td>1</td>\n",
       "      <td>0</td>\n",
       "      <td>0</td>\n",
       "      <td>0</td>\n",
       "    </tr>\n",
       "  </tbody>\n",
       "</table>\n",
       "<p>5 rows × 42 columns</p>\n",
       "</div>"
      ],
      "text/plain": [
       "   year   region         round  high_bracket_seed    high_bracket_team  \\\n",
       "0  2008     East  Second Round                  1  2008 North Carolina   \n",
       "1  2008     East  Second Round                  5      2008 Notre Dame   \n",
       "2  2008     East  Second Round                  6        2008 Oklahoma   \n",
       "3  2008     East  Second Round                  7          2008 Butler   \n",
       "4  2008  Midwest  Second Round                  1          2008 Kansas   \n",
       "\n",
       "   low_bracket_seed     low_bracket_team  win  ovr_rating_bpi  \\\n",
       "0                 9        2008 Arkansas    1            10.5   \n",
       "1                 4  2008 Washington St.    0            -2.1   \n",
       "2                 3      2008 Louisville    0            -6.6   \n",
       "3                 2       2008 Tennessee    0            -3.6   \n",
       "4                 8            2008 UNLV    1            13.3   \n",
       "\n",
       "   ovr_rating_kenpom  ...  eff_def  ft%_def  height_eff  size  bench  \\\n",
       "0            13.2768  ... -11.3529     -0.7       -3.73 -0.08  -0.67   \n",
       "1            -4.7089  ... -13.7218     -8.7        0.00 -0.51   1.55   \n",
       "2            -8.1229  ...  -9.8128      8.3        1.64  1.23  -4.61   \n",
       "3            -3.0397  ... -17.8671      2.1       -3.28 -1.18  -6.83   \n",
       "4            20.3454  ... -16.3229     -6.7        3.48  0.45   2.76   \n",
       "\n",
       "   adj_tempo  s_c  c_a  c_b  c_f  \n",
       "0        6.5    1    0    0    0  \n",
       "1       11.8    0    0    0    0  \n",
       "2       -2.2    0    0    0    0  \n",
       "3      -12.8    0    0    1    0  \n",
       "4        2.9    1    0    0    0  \n",
       "\n",
       "[5 rows x 42 columns]"
      ]
     },
     "execution_count": 257,
     "metadata": {},
     "output_type": "execute_result"
    }
   ],
   "source": [
    "import pandas as pd\n",
    "import matplotlib.pyplot as plt\n",
    "import numpy as np\n",
    "import seaborn as sns\n",
    "\n",
    "df = pd.read_csv('model_features_round2_classic_historical.csv')\n",
    "print(df.shape)\n",
    "df.head()"
   ]
  },
  {
   "cell_type": "code",
   "execution_count": 258,
   "id": "c62f8eaa",
   "metadata": {},
   "outputs": [
    {
     "name": "stdout",
     "output_type": "stream",
     "text": [
      "(240, 35)\n"
     ]
    },
    {
     "data": {
      "text/html": [
       "<div>\n",
       "<style scoped>\n",
       "    .dataframe tbody tr th:only-of-type {\n",
       "        vertical-align: middle;\n",
       "    }\n",
       "\n",
       "    .dataframe tbody tr th {\n",
       "        vertical-align: top;\n",
       "    }\n",
       "\n",
       "    .dataframe thead th {\n",
       "        text-align: right;\n",
       "    }\n",
       "</style>\n",
       "<table border=\"1\" class=\"dataframe\">\n",
       "  <thead>\n",
       "    <tr style=\"text-align: right;\">\n",
       "      <th></th>\n",
       "      <th>win</th>\n",
       "      <th>ovr_rating_bpi</th>\n",
       "      <th>ovr_rating_kenpom</th>\n",
       "      <th>ovr_rating_torvik</th>\n",
       "      <th>wab</th>\n",
       "      <th>off_rating_bpi</th>\n",
       "      <th>off_rating_kenpom</th>\n",
       "      <th>off_rating_torvik</th>\n",
       "      <th>def_rating_bpi</th>\n",
       "      <th>def_rating_kenpom</th>\n",
       "      <th>...</th>\n",
       "      <th>eff_def</th>\n",
       "      <th>ft%_def</th>\n",
       "      <th>height_eff</th>\n",
       "      <th>size</th>\n",
       "      <th>bench</th>\n",
       "      <th>adj_tempo</th>\n",
       "      <th>s_c</th>\n",
       "      <th>c_a</th>\n",
       "      <th>c_b</th>\n",
       "      <th>c_f</th>\n",
       "    </tr>\n",
       "  </thead>\n",
       "  <tbody>\n",
       "    <tr>\n",
       "      <th>0</th>\n",
       "      <td>1</td>\n",
       "      <td>10.5</td>\n",
       "      <td>13.2768</td>\n",
       "      <td>0.095338</td>\n",
       "      <td>11.360016</td>\n",
       "      <td>15.1</td>\n",
       "      <td>15.238142</td>\n",
       "      <td>11.836520</td>\n",
       "      <td>-4.5</td>\n",
       "      <td>-1.641373</td>\n",
       "      <td>...</td>\n",
       "      <td>-11.3529</td>\n",
       "      <td>-0.7</td>\n",
       "      <td>-3.73</td>\n",
       "      <td>-0.08</td>\n",
       "      <td>-0.67</td>\n",
       "      <td>6.5</td>\n",
       "      <td>1</td>\n",
       "      <td>0</td>\n",
       "      <td>0</td>\n",
       "      <td>0</td>\n",
       "    </tr>\n",
       "    <tr>\n",
       "      <th>1</th>\n",
       "      <td>0</td>\n",
       "      <td>-2.1</td>\n",
       "      <td>-4.7089</td>\n",
       "      <td>-0.024250</td>\n",
       "      <td>-0.531302</td>\n",
       "      <td>-2.6</td>\n",
       "      <td>8.071929</td>\n",
       "      <td>6.505324</td>\n",
       "      <td>0.5</td>\n",
       "      <td>-13.327372</td>\n",
       "      <td>...</td>\n",
       "      <td>-13.7218</td>\n",
       "      <td>-8.7</td>\n",
       "      <td>0.00</td>\n",
       "      <td>-0.51</td>\n",
       "      <td>1.55</td>\n",
       "      <td>11.8</td>\n",
       "      <td>0</td>\n",
       "      <td>0</td>\n",
       "      <td>0</td>\n",
       "      <td>0</td>\n",
       "    </tr>\n",
       "    <tr>\n",
       "      <th>2</th>\n",
       "      <td>0</td>\n",
       "      <td>-6.6</td>\n",
       "      <td>-8.1229</td>\n",
       "      <td>-0.076898</td>\n",
       "      <td>-1.939622</td>\n",
       "      <td>-6.5</td>\n",
       "      <td>-3.354741</td>\n",
       "      <td>-6.451341</td>\n",
       "      <td>-0.2</td>\n",
       "      <td>-5.894226</td>\n",
       "      <td>...</td>\n",
       "      <td>-9.8128</td>\n",
       "      <td>8.3</td>\n",
       "      <td>1.64</td>\n",
       "      <td>1.23</td>\n",
       "      <td>-4.61</td>\n",
       "      <td>-2.2</td>\n",
       "      <td>0</td>\n",
       "      <td>0</td>\n",
       "      <td>0</td>\n",
       "      <td>0</td>\n",
       "    </tr>\n",
       "    <tr>\n",
       "      <th>3</th>\n",
       "      <td>0</td>\n",
       "      <td>-3.6</td>\n",
       "      <td>-3.0397</td>\n",
       "      <td>-0.045572</td>\n",
       "      <td>-4.464646</td>\n",
       "      <td>0.5</td>\n",
       "      <td>11.370448</td>\n",
       "      <td>5.761377</td>\n",
       "      <td>-4.1</td>\n",
       "      <td>-14.523992</td>\n",
       "      <td>...</td>\n",
       "      <td>-17.8671</td>\n",
       "      <td>2.1</td>\n",
       "      <td>-3.28</td>\n",
       "      <td>-1.18</td>\n",
       "      <td>-6.83</td>\n",
       "      <td>-12.8</td>\n",
       "      <td>0</td>\n",
       "      <td>0</td>\n",
       "      <td>1</td>\n",
       "      <td>0</td>\n",
       "    </tr>\n",
       "    <tr>\n",
       "      <th>4</th>\n",
       "      <td>1</td>\n",
       "      <td>13.3</td>\n",
       "      <td>20.3454</td>\n",
       "      <td>0.144085</td>\n",
       "      <td>7.711191</td>\n",
       "      <td>6.4</td>\n",
       "      <td>17.874309</td>\n",
       "      <td>14.422822</td>\n",
       "      <td>7.0</td>\n",
       "      <td>4.144395</td>\n",
       "      <td>...</td>\n",
       "      <td>-16.3229</td>\n",
       "      <td>-6.7</td>\n",
       "      <td>3.48</td>\n",
       "      <td>0.45</td>\n",
       "      <td>2.76</td>\n",
       "      <td>2.9</td>\n",
       "      <td>1</td>\n",
       "      <td>0</td>\n",
       "      <td>0</td>\n",
       "      <td>0</td>\n",
       "    </tr>\n",
       "  </tbody>\n",
       "</table>\n",
       "<p>5 rows × 35 columns</p>\n",
       "</div>"
      ],
      "text/plain": [
       "   win  ovr_rating_bpi  ovr_rating_kenpom  ovr_rating_torvik        wab  \\\n",
       "0    1            10.5            13.2768           0.095338  11.360016   \n",
       "1    0            -2.1            -4.7089          -0.024250  -0.531302   \n",
       "2    0            -6.6            -8.1229          -0.076898  -1.939622   \n",
       "3    0            -3.6            -3.0397          -0.045572  -4.464646   \n",
       "4    1            13.3            20.3454           0.144085   7.711191   \n",
       "\n",
       "   off_rating_bpi  off_rating_kenpom  off_rating_torvik  def_rating_bpi  \\\n",
       "0            15.1          15.238142          11.836520            -4.5   \n",
       "1            -2.6           8.071929           6.505324             0.5   \n",
       "2            -6.5          -3.354741          -6.451341            -0.2   \n",
       "3             0.5          11.370448           5.761377            -4.1   \n",
       "4             6.4          17.874309          14.422822             7.0   \n",
       "\n",
       "   def_rating_kenpom  ...  eff_def  ft%_def  height_eff  size  bench  \\\n",
       "0          -1.641373  ... -11.3529     -0.7       -3.73 -0.08  -0.67   \n",
       "1         -13.327372  ... -13.7218     -8.7        0.00 -0.51   1.55   \n",
       "2          -5.894226  ...  -9.8128      8.3        1.64  1.23  -4.61   \n",
       "3         -14.523992  ... -17.8671      2.1       -3.28 -1.18  -6.83   \n",
       "4           4.144395  ... -16.3229     -6.7        3.48  0.45   2.76   \n",
       "\n",
       "   adj_tempo  s_c  c_a  c_b  c_f  \n",
       "0        6.5    1    0    0    0  \n",
       "1       11.8    0    0    0    0  \n",
       "2       -2.2    0    0    0    0  \n",
       "3      -12.8    0    0    1    0  \n",
       "4        2.9    1    0    0    0  \n",
       "\n",
       "[5 rows x 35 columns]"
      ]
     },
     "execution_count": 258,
     "metadata": {},
     "output_type": "execute_result"
    }
   ],
   "source": [
    "df2 = df.drop(columns=['year', \n",
    "                       'region', \n",
    "                       'round', \n",
    "                       'high_bracket_seed', \n",
    "                       'high_bracket_team', \n",
    "                       'low_bracket_seed', \n",
    "                       'low_bracket_team'\n",
    "                      ])\n",
    "print(df2.shape)\n",
    "df2.head()"
   ]
  },
  {
   "cell_type": "code",
   "execution_count": 259,
   "id": "d11c741e",
   "metadata": {},
   "outputs": [
    {
     "data": {
      "text/plain": [
       "<Axes: title={'center': 'Correlation with the Response Variable'}>"
      ]
     },
     "execution_count": 259,
     "metadata": {},
     "output_type": "execute_result"
    },
    {
     "data": {
      "image/png": "[encoded data removed]",
      "text/plain": [
       "<Figure size 2000x1000 with 1 Axes>"
      ]
     },
     "metadata": {},
     "output_type": "display_data"
    }
   ],
   "source": [
    "df2.drop(columns=['win', 's_c', 'c_a', 'c_b', 'c_f']).corrwith(df2.win).plot.bar(\n",
    "    figsize=(20,10), title='Correlation with the Response Variable', fontsize=15,\n",
    "    rot=45, grid=True\n",
    ")"
   ]
  },
  {
   "cell_type": "code",
   "execution_count": 260,
   "id": "7e125ca0",
   "metadata": {},
   "outputs": [
    {
     "name": "stdout",
     "output_type": "stream",
     "text": [
      "(192, 34)\n",
      "(192,)\n",
      "(48, 34)\n",
      "(48,)\n"
     ]
    }
   ],
   "source": [
    "from sklearn.model_selection import train_test_split\n",
    "\n",
    "X_train, X_test, y_train, y_test = train_test_split(df2.drop(columns='win'),\n",
    "                                                    df2['win'],\n",
    "                                                    test_size=0.2,\n",
    "                                                    random_state=0\n",
    "                                                   )\n",
    "print(X_train.shape)\n",
    "print(y_train.shape)\n",
    "print(X_test.shape)\n",
    "print(y_test.shape)"
   ]
  },
  {
   "cell_type": "code",
   "execution_count": 261,
   "id": "4b3675dd",
   "metadata": {},
   "outputs": [],
   "source": [
    "from sklearn.preprocessing import StandardScaler\n",
    "\n",
    "sc_X = StandardScaler()\n",
    "\n",
    "X_train2 = pd.DataFrame(sc_X.fit_transform(X_train))\n",
    "X_train2.columns = X_train.columns.values\n",
    "X_train2.index = X_train.index.values\n",
    "\n",
    "X_test2 = pd.DataFrame(sc_X.transform(X_test))\n",
    "X_test2.columns = X_test.columns.values\n",
    "X_test2.index = X_test.index.values\n",
    "\n",
    "X_train = X_train2\n",
    "X_test = X_test2"
   ]
  },
  {
   "cell_type": "markdown",
   "id": "24b36bf1",
   "metadata": {},
   "source": [
    "# I. Logistic Regression"
   ]
  },
  {
   "cell_type": "code",
   "execution_count": 262,
   "id": "a551741e",
   "metadata": {},
   "outputs": [
    {
     "data": {
      "text/html": [
       "<style>#sk-container-id-65 {color: black;background-color: white;}#sk-container-id-65 pre{padding: 0;}#sk-container-id-65 div.sk-toggleable {background-color: white;}#sk-container-id-65 label.sk-toggleable__label {cursor: pointer;display: block;width: 100%;margin-bottom: 0;padding: 0.3em;box-sizing: border-box;text-align: center;}#sk-container-id-65 label.sk-toggleable__label-arrow:before {content: \"▸\";float: left;margin-right: 0.25em;color: #696969;}#sk-container-id-65 label.sk-toggleable__label-arrow:hover:before {color: black;}#sk-container-id-65 div.sk-estimator:hover label.sk-toggleable__label-arrow:before {color: black;}#sk-container-id-65 div.sk-toggleable__content {max-height: 0;max-width: 0;overflow: hidden;text-align: left;background-color: #f0f8ff;}#sk-container-id-65 div.sk-toggleable__content pre {margin: 0.2em;color: black;border-radius: 0.25em;background-color: #f0f8ff;}#sk-container-id-65 input.sk-toggleable__control:checked~div.sk-toggleable__content {max-height: 200px;max-width: 100%;overflow: auto;}#sk-container-id-65 input.sk-toggleable__control:checked~label.sk-toggleable__label-arrow:before {content: \"▾\";}#sk-container-id-65 div.sk-estimator input.sk-toggleable__control:checked~label.sk-toggleable__label {background-color: #d4ebff;}#sk-container-id-65 div.sk-label input.sk-toggleable__control:checked~label.sk-toggleable__label {background-color: #d4ebff;}#sk-container-id-65 input.sk-hidden--visually {border: 0;clip: rect(1px 1px 1px 1px);clip: rect(1px, 1px, 1px, 1px);height: 1px;margin: -1px;overflow: hidden;padding: 0;position: absolute;width: 1px;}#sk-container-id-65 div.sk-estimator {font-family: monospace;background-color: #f0f8ff;border: 1px dotted black;border-radius: 0.25em;box-sizing: border-box;margin-bottom: 0.5em;}#sk-container-id-65 div.sk-estimator:hover {background-color: #d4ebff;}#sk-container-id-65 div.sk-parallel-item::after {content: \"\";width: 100%;border-bottom: 1px solid gray;flex-grow: 1;}#sk-container-id-65 div.sk-label:hover label.sk-toggleable__label {background-color: #d4ebff;}#sk-container-id-65 div.sk-serial::before {content: \"\";position: absolute;border-left: 1px solid gray;box-sizing: border-box;top: 0;bottom: 0;left: 50%;z-index: 0;}#sk-container-id-65 div.sk-serial {display: flex;flex-direction: column;align-items: center;background-color: white;padding-right: 0.2em;padding-left: 0.2em;position: relative;}#sk-container-id-65 div.sk-item {position: relative;z-index: 1;}#sk-container-id-65 div.sk-parallel {display: flex;align-items: stretch;justify-content: center;background-color: white;position: relative;}#sk-container-id-65 div.sk-item::before, #sk-container-id-65 div.sk-parallel-item::before {content: \"\";position: absolute;border-left: 1px solid gray;box-sizing: border-box;top: 0;bottom: 0;left: 50%;z-index: -1;}#sk-container-id-65 div.sk-parallel-item {display: flex;flex-direction: column;z-index: 1;position: relative;background-color: white;}#sk-container-id-65 div.sk-parallel-item:first-child::after {align-self: flex-end;width: 50%;}#sk-container-id-65 div.sk-parallel-item:last-child::after {align-self: flex-start;width: 50%;}#sk-container-id-65 div.sk-parallel-item:only-child::after {width: 0;}#sk-container-id-65 div.sk-dashed-wrapped {border: 1px dashed gray;margin: 0 0.4em 0.5em 0.4em;box-sizing: border-box;padding-bottom: 0.4em;background-color: white;}#sk-container-id-65 div.sk-label label {font-family: monospace;font-weight: bold;display: inline-block;line-height: 1.2em;}#sk-container-id-65 div.sk-label-container {text-align: center;}#sk-container-id-65 div.sk-container {/* jupyter's `normalize.less` sets `[hidden] { display: none; }` but bootstrap.min.css set `[hidden] { display: none !important; }` so we also need the `!important` here to be able to override the default hidden behavior on the sphinx rendered scikit-learn.org. See: https://github.com/scikit-learn/scikit-learn/issues/21755 */display: inline-block !important;position: relative;}#sk-container-id-65 div.sk-text-repr-fallback {display: none;}</style><div id=\"sk-container-id-65\" class=\"sk-top-container\"><div class=\"sk-text-repr-fallback\"><pre>LogisticRegression(random_state=0)</pre><b>In a Jupyter environment, please rerun this cell to show the HTML representation or trust the notebook. <br />On GitHub, the HTML representation is unable to render, please try loading this page with nbviewer.org.</b></div><div class=\"sk-container\" hidden><div class=\"sk-item\"><div class=\"sk-estimator sk-toggleable\"><input class=\"sk-toggleable__control sk-hidden--visually\" id=\"sk-estimator-id-157\" type=\"checkbox\" checked><label for=\"sk-estimator-id-157\" class=\"sk-toggleable__label sk-toggleable__label-arrow\">LogisticRegression</label><div class=\"sk-toggleable__content\"><pre>LogisticRegression(random_state=0)</pre></div></div></div></div></div>"
      ],
      "text/plain": [
       "LogisticRegression(random_state=0)"
      ]
     },
     "execution_count": 262,
     "metadata": {},
     "output_type": "execute_result"
    }
   ],
   "source": [
    "from sklearn.linear_model import LogisticRegression\n",
    "clf = LogisticRegression(random_state=0)\n",
    "clf.fit(X_train, y_train)"
   ]
  },
  {
   "cell_type": "code",
   "execution_count": 263,
   "id": "3a9f6f9c",
   "metadata": {},
   "outputs": [],
   "source": [
    "y_pred_train = clf.predict(X_train)\n",
    "y_pred_test = clf.predict(X_test)"
   ]
  },
  {
   "cell_type": "code",
   "execution_count": 264,
   "id": "361d1aae",
   "metadata": {},
   "outputs": [
    {
     "name": "stdout",
     "output_type": "stream",
     "text": [
      "Accuracy Train:  0.8229166666666666\n",
      "Accuracy Test:  0.7291666666666666\n",
      "Precision Train:  0.8444444444444444\n",
      "Precision Test:  0.6666666666666666\n",
      "Recall Train:  0.7916666666666666\n",
      "Recall Test:  0.7619047619047619\n",
      "F1 Train:  0.8172043010752689\n",
      "F1 Test:  0.7111111111111111\n",
      "ROC_AUC Train:  0.8229166666666665\n",
      "ROC_AUC Test:  0.7328042328042328\n"
     ]
    }
   ],
   "source": [
    "from sklearn.metrics import confusion_matrix, accuracy_score, f1_score, precision_score, recall_score, roc_auc_score\n",
    "\n",
    "print('Accuracy Train: ', accuracy_score(y_train, y_pred_train))\n",
    "print('Accuracy Test: ', accuracy_score(y_test, y_pred_test))\n",
    "\n",
    "print('Precision Train: ', precision_score(y_train, y_pred_train))\n",
    "print('Precision Test: ', precision_score(y_test, y_pred_test))\n",
    "      \n",
    "print('Recall Train: ', recall_score(y_train, y_pred_train))\n",
    "print('Recall Test: ', recall_score(y_test, y_pred_test))    \n",
    "\n",
    "print('F1 Train: ', f1_score(y_train, y_pred_train))\n",
    "print('F1 Test: ', f1_score(y_test, y_pred_test)) \n",
    "\n",
    "print('ROC_AUC Train: ', roc_auc_score(y_train, y_pred_train))\n",
    "print('ROC_AUC Test: ', roc_auc_score(y_test, y_pred_test))  "
   ]
  },
  {
   "cell_type": "markdown",
   "id": "4d79bf7f",
   "metadata": {},
   "source": [
    "# II. RFE Logistic Regression"
   ]
  },
  {
   "cell_type": "code",
   "execution_count": 265,
   "id": "087a5588",
   "metadata": {},
   "outputs": [
    {
     "data": {
      "text/html": [
       "<style>#sk-container-id-66 {color: black;background-color: white;}#sk-container-id-66 pre{padding: 0;}#sk-container-id-66 div.sk-toggleable {background-color: white;}#sk-container-id-66 label.sk-toggleable__label {cursor: pointer;display: block;width: 100%;margin-bottom: 0;padding: 0.3em;box-sizing: border-box;text-align: center;}#sk-container-id-66 label.sk-toggleable__label-arrow:before {content: \"▸\";float: left;margin-right: 0.25em;color: #696969;}#sk-container-id-66 label.sk-toggleable__label-arrow:hover:before {color: black;}#sk-container-id-66 div.sk-estimator:hover label.sk-toggleable__label-arrow:before {color: black;}#sk-container-id-66 div.sk-toggleable__content {max-height: 0;max-width: 0;overflow: hidden;text-align: left;background-color: #f0f8ff;}#sk-container-id-66 div.sk-toggleable__content pre {margin: 0.2em;color: black;border-radius: 0.25em;background-color: #f0f8ff;}#sk-container-id-66 input.sk-toggleable__control:checked~div.sk-toggleable__content {max-height: 200px;max-width: 100%;overflow: auto;}#sk-container-id-66 input.sk-toggleable__control:checked~label.sk-toggleable__label-arrow:before {content: \"▾\";}#sk-container-id-66 div.sk-estimator input.sk-toggleable__control:checked~label.sk-toggleable__label {background-color: #d4ebff;}#sk-container-id-66 div.sk-label input.sk-toggleable__control:checked~label.sk-toggleable__label {background-color: #d4ebff;}#sk-container-id-66 input.sk-hidden--visually {border: 0;clip: rect(1px 1px 1px 1px);clip: rect(1px, 1px, 1px, 1px);height: 1px;margin: -1px;overflow: hidden;padding: 0;position: absolute;width: 1px;}#sk-container-id-66 div.sk-estimator {font-family: monospace;background-color: #f0f8ff;border: 1px dotted black;border-radius: 0.25em;box-sizing: border-box;margin-bottom: 0.5em;}#sk-container-id-66 div.sk-estimator:hover {background-color: #d4ebff;}#sk-container-id-66 div.sk-parallel-item::after {content: \"\";width: 100%;border-bottom: 1px solid gray;flex-grow: 1;}#sk-container-id-66 div.sk-label:hover label.sk-toggleable__label {background-color: #d4ebff;}#sk-container-id-66 div.sk-serial::before {content: \"\";position: absolute;border-left: 1px solid gray;box-sizing: border-box;top: 0;bottom: 0;left: 50%;z-index: 0;}#sk-container-id-66 div.sk-serial {display: flex;flex-direction: column;align-items: center;background-color: white;padding-right: 0.2em;padding-left: 0.2em;position: relative;}#sk-container-id-66 div.sk-item {position: relative;z-index: 1;}#sk-container-id-66 div.sk-parallel {display: flex;align-items: stretch;justify-content: center;background-color: white;position: relative;}#sk-container-id-66 div.sk-item::before, #sk-container-id-66 div.sk-parallel-item::before {content: \"\";position: absolute;border-left: 1px solid gray;box-sizing: border-box;top: 0;bottom: 0;left: 50%;z-index: -1;}#sk-container-id-66 div.sk-parallel-item {display: flex;flex-direction: column;z-index: 1;position: relative;background-color: white;}#sk-container-id-66 div.sk-parallel-item:first-child::after {align-self: flex-end;width: 50%;}#sk-container-id-66 div.sk-parallel-item:last-child::after {align-self: flex-start;width: 50%;}#sk-container-id-66 div.sk-parallel-item:only-child::after {width: 0;}#sk-container-id-66 div.sk-dashed-wrapped {border: 1px dashed gray;margin: 0 0.4em 0.5em 0.4em;box-sizing: border-box;padding-bottom: 0.4em;background-color: white;}#sk-container-id-66 div.sk-label label {font-family: monospace;font-weight: bold;display: inline-block;line-height: 1.2em;}#sk-container-id-66 div.sk-label-container {text-align: center;}#sk-container-id-66 div.sk-container {/* jupyter's `normalize.less` sets `[hidden] { display: none; }` but bootstrap.min.css set `[hidden] { display: none !important; }` so we also need the `!important` here to be able to override the default hidden behavior on the sphinx rendered scikit-learn.org. See: https://github.com/scikit-learn/scikit-learn/issues/21755 */display: inline-block !important;position: relative;}#sk-container-id-66 div.sk-text-repr-fallback {display: none;}</style><div id=\"sk-container-id-66\" class=\"sk-top-container\"><div class=\"sk-text-repr-fallback\"><pre>RFE(estimator=LogisticRegression(random_state=0), n_features_to_select=17)</pre><b>In a Jupyter environment, please rerun this cell to show the HTML representation or trust the notebook. <br />On GitHub, the HTML representation is unable to render, please try loading this page with nbviewer.org.</b></div><div class=\"sk-container\" hidden><div class=\"sk-item sk-dashed-wrapped\"><div class=\"sk-label-container\"><div class=\"sk-label sk-toggleable\"><input class=\"sk-toggleable__control sk-hidden--visually\" id=\"sk-estimator-id-158\" type=\"checkbox\" ><label for=\"sk-estimator-id-158\" class=\"sk-toggleable__label sk-toggleable__label-arrow\">RFE</label><div class=\"sk-toggleable__content\"><pre>RFE(estimator=LogisticRegression(random_state=0), n_features_to_select=17)</pre></div></div></div><div class=\"sk-parallel\"><div class=\"sk-parallel-item\"><div class=\"sk-item\"><div class=\"sk-label-container\"><div class=\"sk-label sk-toggleable\"><input class=\"sk-toggleable__control sk-hidden--visually\" id=\"sk-estimator-id-159\" type=\"checkbox\" ><label for=\"sk-estimator-id-159\" class=\"sk-toggleable__label sk-toggleable__label-arrow\">estimator: LogisticRegression</label><div class=\"sk-toggleable__content\"><pre>LogisticRegression(random_state=0)</pre></div></div></div><div class=\"sk-serial\"><div class=\"sk-item\"><div class=\"sk-estimator sk-toggleable\"><input class=\"sk-toggleable__control sk-hidden--visually\" id=\"sk-estimator-id-160\" type=\"checkbox\" ><label for=\"sk-estimator-id-160\" class=\"sk-toggleable__label sk-toggleable__label-arrow\">LogisticRegression</label><div class=\"sk-toggleable__content\"><pre>LogisticRegression(random_state=0)</pre></div></div></div></div></div></div></div></div></div></div>"
      ],
      "text/plain": [
       "RFE(estimator=LogisticRegression(random_state=0), n_features_to_select=17)"
      ]
     },
     "execution_count": 265,
     "metadata": {},
     "output_type": "execute_result"
    }
   ],
   "source": [
    "from sklearn.feature_selection import RFE\n",
    "from sklearn.linear_model import LogisticRegression\n",
    "\n",
    "rfe = RFE(clf, n_features_to_select=17, step=1)\n",
    "rfe.fit(X_train, y_train)"
   ]
  },
  {
   "cell_type": "code",
   "execution_count": 266,
   "id": "db7c0689",
   "metadata": {},
   "outputs": [],
   "source": [
    "y_pred_train = rfe.predict(X_train)\n",
    "y_pred_test = rfe.predict(X_test)"
   ]
  },
  {
   "cell_type": "code",
   "execution_count": 267,
   "id": "7815cb97",
   "metadata": {},
   "outputs": [
    {
     "name": "stdout",
     "output_type": "stream",
     "text": [
      "Accuracy Train:  0.7916666666666666\n",
      "Accuracy Test:  0.75\n",
      "Precision Train:  0.7916666666666666\n",
      "Precision Test:  0.7142857142857143\n",
      "Recall Train:  0.7916666666666666\n",
      "Recall Test:  0.7142857142857143\n",
      "F1 Train:  0.7916666666666666\n",
      "F1 Test:  0.7142857142857143\n",
      "ROC_AUC Train:  0.7916666666666666\n",
      "ROC_AUC Test:  0.746031746031746\n"
     ]
    }
   ],
   "source": [
    "print('Accuracy Train: ', accuracy_score(y_train, y_pred_train))\n",
    "print('Accuracy Test: ', accuracy_score(y_test, y_pred_test))\n",
    "\n",
    "print('Precision Train: ', precision_score(y_train, y_pred_train))\n",
    "print('Precision Test: ', precision_score(y_test, y_pred_test))\n",
    "      \n",
    "print('Recall Train: ', recall_score(y_train, y_pred_train))\n",
    "print('Recall Test: ', recall_score(y_test, y_pred_test))    \n",
    "\n",
    "print('F1 Train: ', f1_score(y_train, y_pred_train))\n",
    "print('F1 Test: ', f1_score(y_test, y_pred_test)) \n",
    "\n",
    "print('ROC_AUC Train: ', roc_auc_score(y_train, y_pred_train))\n",
    "print('ROC_AUC Test: ', roc_auc_score(y_test, y_pred_test))  "
   ]
  },
  {
   "cell_type": "code",
   "execution_count": 268,
   "id": "2d515f97",
   "metadata": {},
   "outputs": [
    {
     "data": {
      "text/html": [
       "<div>\n",
       "<style scoped>\n",
       "    .dataframe tbody tr th:only-of-type {\n",
       "        vertical-align: middle;\n",
       "    }\n",
       "\n",
       "    .dataframe tbody tr th {\n",
       "        vertical-align: top;\n",
       "    }\n",
       "\n",
       "    .dataframe thead th {\n",
       "        text-align: right;\n",
       "    }\n",
       "</style>\n",
       "<table border=\"1\" class=\"dataframe\">\n",
       "  <thead>\n",
       "    <tr style=\"text-align: right;\">\n",
       "      <th></th>\n",
       "      <th>features</th>\n",
       "      <th>coef</th>\n",
       "    </tr>\n",
       "  </thead>\n",
       "  <tbody>\n",
       "    <tr>\n",
       "      <th>0</th>\n",
       "      <td>ovr_rating_bpi</td>\n",
       "      <td>1.348379</td>\n",
       "    </tr>\n",
       "    <tr>\n",
       "      <th>1</th>\n",
       "      <td>ovr_rating_kenpom</td>\n",
       "      <td>-0.791028</td>\n",
       "    </tr>\n",
       "    <tr>\n",
       "      <th>2</th>\n",
       "      <td>ovr_rating_torvik</td>\n",
       "      <td>0.410317</td>\n",
       "    </tr>\n",
       "    <tr>\n",
       "      <th>3</th>\n",
       "      <td>wab</td>\n",
       "      <td>-0.693622</td>\n",
       "    </tr>\n",
       "    <tr>\n",
       "      <th>4</th>\n",
       "      <td>off_rating_bpi</td>\n",
       "      <td>0.868260</td>\n",
       "    </tr>\n",
       "    <tr>\n",
       "      <th>5</th>\n",
       "      <td>off_rating_kenpom</td>\n",
       "      <td>-0.570750</td>\n",
       "    </tr>\n",
       "    <tr>\n",
       "      <th>6</th>\n",
       "      <td>off_rating_torvik</td>\n",
       "      <td>0.578072</td>\n",
       "    </tr>\n",
       "    <tr>\n",
       "      <th>7</th>\n",
       "      <td>def_rating_bpi</td>\n",
       "      <td>0.955434</td>\n",
       "    </tr>\n",
       "    <tr>\n",
       "      <th>8</th>\n",
       "      <td>def_rating_kenpom</td>\n",
       "      <td>-0.453456</td>\n",
       "    </tr>\n",
       "    <tr>\n",
       "      <th>9</th>\n",
       "      <td>efg%_def</td>\n",
       "      <td>-0.094310</td>\n",
       "    </tr>\n",
       "    <tr>\n",
       "      <th>10</th>\n",
       "      <td>2p%_off</td>\n",
       "      <td>-0.004929</td>\n",
       "    </tr>\n",
       "    <tr>\n",
       "      <th>11</th>\n",
       "      <td>3p%_off</td>\n",
       "      <td>-0.077961</td>\n",
       "    </tr>\n",
       "    <tr>\n",
       "      <th>12</th>\n",
       "      <td>eff_off</td>\n",
       "      <td>-0.258100</td>\n",
       "    </tr>\n",
       "    <tr>\n",
       "      <th>13</th>\n",
       "      <td>ft%_def</td>\n",
       "      <td>0.219796</td>\n",
       "    </tr>\n",
       "    <tr>\n",
       "      <th>14</th>\n",
       "      <td>height_eff</td>\n",
       "      <td>0.513127</td>\n",
       "    </tr>\n",
       "    <tr>\n",
       "      <th>15</th>\n",
       "      <td>bench</td>\n",
       "      <td>0.041023</td>\n",
       "    </tr>\n",
       "    <tr>\n",
       "      <th>16</th>\n",
       "      <td>s_c</td>\n",
       "      <td>-0.116123</td>\n",
       "    </tr>\n",
       "    <tr>\n",
       "      <th>17</th>\n",
       "      <td>NaN</td>\n",
       "      <td>0.455012</td>\n",
       "    </tr>\n",
       "    <tr>\n",
       "      <th>18</th>\n",
       "      <td>NaN</td>\n",
       "      <td>0.223277</td>\n",
       "    </tr>\n",
       "    <tr>\n",
       "      <th>19</th>\n",
       "      <td>NaN</td>\n",
       "      <td>0.292619</td>\n",
       "    </tr>\n",
       "    <tr>\n",
       "      <th>20</th>\n",
       "      <td>NaN</td>\n",
       "      <td>-0.605267</td>\n",
       "    </tr>\n",
       "    <tr>\n",
       "      <th>21</th>\n",
       "      <td>NaN</td>\n",
       "      <td>-0.063542</td>\n",
       "    </tr>\n",
       "    <tr>\n",
       "      <th>22</th>\n",
       "      <td>NaN</td>\n",
       "      <td>-0.125013</td>\n",
       "    </tr>\n",
       "    <tr>\n",
       "      <th>23</th>\n",
       "      <td>NaN</td>\n",
       "      <td>-0.199488</td>\n",
       "    </tr>\n",
       "    <tr>\n",
       "      <th>24</th>\n",
       "      <td>NaN</td>\n",
       "      <td>0.186745</td>\n",
       "    </tr>\n",
       "    <tr>\n",
       "      <th>25</th>\n",
       "      <td>NaN</td>\n",
       "      <td>0.339679</td>\n",
       "    </tr>\n",
       "    <tr>\n",
       "      <th>26</th>\n",
       "      <td>NaN</td>\n",
       "      <td>0.472006</td>\n",
       "    </tr>\n",
       "    <tr>\n",
       "      <th>27</th>\n",
       "      <td>NaN</td>\n",
       "      <td>0.278657</td>\n",
       "    </tr>\n",
       "    <tr>\n",
       "      <th>28</th>\n",
       "      <td>NaN</td>\n",
       "      <td>-0.755392</td>\n",
       "    </tr>\n",
       "    <tr>\n",
       "      <th>29</th>\n",
       "      <td>NaN</td>\n",
       "      <td>0.217042</td>\n",
       "    </tr>\n",
       "    <tr>\n",
       "      <th>30</th>\n",
       "      <td>NaN</td>\n",
       "      <td>0.544499</td>\n",
       "    </tr>\n",
       "    <tr>\n",
       "      <th>31</th>\n",
       "      <td>NaN</td>\n",
       "      <td>-0.195579</td>\n",
       "    </tr>\n",
       "    <tr>\n",
       "      <th>32</th>\n",
       "      <td>NaN</td>\n",
       "      <td>-0.036353</td>\n",
       "    </tr>\n",
       "    <tr>\n",
       "      <th>33</th>\n",
       "      <td>NaN</td>\n",
       "      <td>-0.076057</td>\n",
       "    </tr>\n",
       "  </tbody>\n",
       "</table>\n",
       "</div>"
      ],
      "text/plain": [
       "             features      coef\n",
       "0      ovr_rating_bpi  1.348379\n",
       "1   ovr_rating_kenpom -0.791028\n",
       "2   ovr_rating_torvik  0.410317\n",
       "3                 wab -0.693622\n",
       "4      off_rating_bpi  0.868260\n",
       "5   off_rating_kenpom -0.570750\n",
       "6   off_rating_torvik  0.578072\n",
       "7      def_rating_bpi  0.955434\n",
       "8   def_rating_kenpom -0.453456\n",
       "9            efg%_def -0.094310\n",
       "10            2p%_off -0.004929\n",
       "11            3p%_off -0.077961\n",
       "12            eff_off -0.258100\n",
       "13            ft%_def  0.219796\n",
       "14         height_eff  0.513127\n",
       "15              bench  0.041023\n",
       "16                s_c -0.116123\n",
       "17                NaN  0.455012\n",
       "18                NaN  0.223277\n",
       "19                NaN  0.292619\n",
       "20                NaN -0.605267\n",
       "21                NaN -0.063542\n",
       "22                NaN -0.125013\n",
       "23                NaN -0.199488\n",
       "24                NaN  0.186745\n",
       "25                NaN  0.339679\n",
       "26                NaN  0.472006\n",
       "27                NaN  0.278657\n",
       "28                NaN -0.755392\n",
       "29                NaN  0.217042\n",
       "30                NaN  0.544499\n",
       "31                NaN -0.195579\n",
       "32                NaN -0.036353\n",
       "33                NaN -0.076057"
      ]
     },
     "execution_count": 268,
     "metadata": {},
     "output_type": "execute_result"
    }
   ],
   "source": [
    "pd.concat([pd.DataFrame(X_train.columns[rfe.support_], columns=['features']),\n",
    "           pd.DataFrame(np.transpose(clf.coef_), columns=['coef'])],\n",
    "           axis=1)"
   ]
  },
  {
   "cell_type": "markdown",
   "id": "2d0640c0",
   "metadata": {},
   "source": [
    "### Underfit!"
   ]
  },
  {
   "cell_type": "markdown",
   "id": "ee7cd93d",
   "metadata": {},
   "source": [
    "# III. Lasso Regression"
   ]
  },
  {
   "cell_type": "code",
   "execution_count": 269,
   "id": "2cdb953f",
   "metadata": {},
   "outputs": [
    {
     "data": {
      "text/html": [
       "<style>#sk-container-id-67 {color: black;background-color: white;}#sk-container-id-67 pre{padding: 0;}#sk-container-id-67 div.sk-toggleable {background-color: white;}#sk-container-id-67 label.sk-toggleable__label {cursor: pointer;display: block;width: 100%;margin-bottom: 0;padding: 0.3em;box-sizing: border-box;text-align: center;}#sk-container-id-67 label.sk-toggleable__label-arrow:before {content: \"▸\";float: left;margin-right: 0.25em;color: #696969;}#sk-container-id-67 label.sk-toggleable__label-arrow:hover:before {color: black;}#sk-container-id-67 div.sk-estimator:hover label.sk-toggleable__label-arrow:before {color: black;}#sk-container-id-67 div.sk-toggleable__content {max-height: 0;max-width: 0;overflow: hidden;text-align: left;background-color: #f0f8ff;}#sk-container-id-67 div.sk-toggleable__content pre {margin: 0.2em;color: black;border-radius: 0.25em;background-color: #f0f8ff;}#sk-container-id-67 input.sk-toggleable__control:checked~div.sk-toggleable__content {max-height: 200px;max-width: 100%;overflow: auto;}#sk-container-id-67 input.sk-toggleable__control:checked~label.sk-toggleable__label-arrow:before {content: \"▾\";}#sk-container-id-67 div.sk-estimator input.sk-toggleable__control:checked~label.sk-toggleable__label {background-color: #d4ebff;}#sk-container-id-67 div.sk-label input.sk-toggleable__control:checked~label.sk-toggleable__label {background-color: #d4ebff;}#sk-container-id-67 input.sk-hidden--visually {border: 0;clip: rect(1px 1px 1px 1px);clip: rect(1px, 1px, 1px, 1px);height: 1px;margin: -1px;overflow: hidden;padding: 0;position: absolute;width: 1px;}#sk-container-id-67 div.sk-estimator {font-family: monospace;background-color: #f0f8ff;border: 1px dotted black;border-radius: 0.25em;box-sizing: border-box;margin-bottom: 0.5em;}#sk-container-id-67 div.sk-estimator:hover {background-color: #d4ebff;}#sk-container-id-67 div.sk-parallel-item::after {content: \"\";width: 100%;border-bottom: 1px solid gray;flex-grow: 1;}#sk-container-id-67 div.sk-label:hover label.sk-toggleable__label {background-color: #d4ebff;}#sk-container-id-67 div.sk-serial::before {content: \"\";position: absolute;border-left: 1px solid gray;box-sizing: border-box;top: 0;bottom: 0;left: 50%;z-index: 0;}#sk-container-id-67 div.sk-serial {display: flex;flex-direction: column;align-items: center;background-color: white;padding-right: 0.2em;padding-left: 0.2em;position: relative;}#sk-container-id-67 div.sk-item {position: relative;z-index: 1;}#sk-container-id-67 div.sk-parallel {display: flex;align-items: stretch;justify-content: center;background-color: white;position: relative;}#sk-container-id-67 div.sk-item::before, #sk-container-id-67 div.sk-parallel-item::before {content: \"\";position: absolute;border-left: 1px solid gray;box-sizing: border-box;top: 0;bottom: 0;left: 50%;z-index: -1;}#sk-container-id-67 div.sk-parallel-item {display: flex;flex-direction: column;z-index: 1;position: relative;background-color: white;}#sk-container-id-67 div.sk-parallel-item:first-child::after {align-self: flex-end;width: 50%;}#sk-container-id-67 div.sk-parallel-item:last-child::after {align-self: flex-start;width: 50%;}#sk-container-id-67 div.sk-parallel-item:only-child::after {width: 0;}#sk-container-id-67 div.sk-dashed-wrapped {border: 1px dashed gray;margin: 0 0.4em 0.5em 0.4em;box-sizing: border-box;padding-bottom: 0.4em;background-color: white;}#sk-container-id-67 div.sk-label label {font-family: monospace;font-weight: bold;display: inline-block;line-height: 1.2em;}#sk-container-id-67 div.sk-label-container {text-align: center;}#sk-container-id-67 div.sk-container {/* jupyter's `normalize.less` sets `[hidden] { display: none; }` but bootstrap.min.css set `[hidden] { display: none !important; }` so we also need the `!important` here to be able to override the default hidden behavior on the sphinx rendered scikit-learn.org. See: https://github.com/scikit-learn/scikit-learn/issues/21755 */display: inline-block !important;position: relative;}#sk-container-id-67 div.sk-text-repr-fallback {display: none;}</style><div id=\"sk-container-id-67\" class=\"sk-top-container\"><div class=\"sk-text-repr-fallback\"><pre>SelectFromModel(estimator=LogisticRegression(C=0.5, penalty=&#x27;l1&#x27;,\n",
       "                                             random_state=10,\n",
       "                                             solver=&#x27;liblinear&#x27;))</pre><b>In a Jupyter environment, please rerun this cell to show the HTML representation or trust the notebook. <br />On GitHub, the HTML representation is unable to render, please try loading this page with nbviewer.org.</b></div><div class=\"sk-container\" hidden><div class=\"sk-item sk-dashed-wrapped\"><div class=\"sk-label-container\"><div class=\"sk-label sk-toggleable\"><input class=\"sk-toggleable__control sk-hidden--visually\" id=\"sk-estimator-id-161\" type=\"checkbox\" ><label for=\"sk-estimator-id-161\" class=\"sk-toggleable__label sk-toggleable__label-arrow\">SelectFromModel</label><div class=\"sk-toggleable__content\"><pre>SelectFromModel(estimator=LogisticRegression(C=0.5, penalty=&#x27;l1&#x27;,\n",
       "                                             random_state=10,\n",
       "                                             solver=&#x27;liblinear&#x27;))</pre></div></div></div><div class=\"sk-parallel\"><div class=\"sk-parallel-item\"><div class=\"sk-item\"><div class=\"sk-label-container\"><div class=\"sk-label sk-toggleable\"><input class=\"sk-toggleable__control sk-hidden--visually\" id=\"sk-estimator-id-162\" type=\"checkbox\" ><label for=\"sk-estimator-id-162\" class=\"sk-toggleable__label sk-toggleable__label-arrow\">estimator: LogisticRegression</label><div class=\"sk-toggleable__content\"><pre>LogisticRegression(C=0.5, penalty=&#x27;l1&#x27;, random_state=10, solver=&#x27;liblinear&#x27;)</pre></div></div></div><div class=\"sk-serial\"><div class=\"sk-item\"><div class=\"sk-estimator sk-toggleable\"><input class=\"sk-toggleable__control sk-hidden--visually\" id=\"sk-estimator-id-163\" type=\"checkbox\" ><label for=\"sk-estimator-id-163\" class=\"sk-toggleable__label sk-toggleable__label-arrow\">LogisticRegression</label><div class=\"sk-toggleable__content\"><pre>LogisticRegression(C=0.5, penalty=&#x27;l1&#x27;, random_state=10, solver=&#x27;liblinear&#x27;)</pre></div></div></div></div></div></div></div></div></div></div>"
      ],
      "text/plain": [
       "SelectFromModel(estimator=LogisticRegression(C=0.5, penalty='l1',\n",
       "                                             random_state=10,\n",
       "                                             solver='liblinear'))"
      ]
     },
     "execution_count": 269,
     "metadata": {},
     "output_type": "execute_result"
    }
   ],
   "source": [
    "from sklearn.feature_selection import SelectFromModel\n",
    "from sklearn.linear_model import Lasso\n",
    "\n",
    "sel_ = SelectFromModel(\n",
    "    LogisticRegression(C=0.5, penalty='l1', solver='liblinear', random_state=10))\n",
    "\n",
    "sel_.fit(X_train, y_train)"
   ]
  },
  {
   "cell_type": "code",
   "execution_count": 270,
   "id": "5cf21dbf",
   "metadata": {},
   "outputs": [
    {
     "name": "stdout",
     "output_type": "stream",
     "text": [
      "total features: 34\n",
      "selected features: 17\n",
      "features with coefficients shrank to zero: 17\n"
     ]
    }
   ],
   "source": [
    "selected_feat = X_train.columns[(sel_.get_support())]\n",
    "\n",
    "print('total features: {}'.format((X_train.shape[1])))\n",
    "print('selected features: {}'.format(len(selected_feat)))\n",
    "print('features with coefficients shrank to zero: {}'.format(\n",
    "    np.sum(sel_.estimator_.coef_ == 0)))"
   ]
  },
  {
   "cell_type": "code",
   "execution_count": 271,
   "id": "90068cfc",
   "metadata": {},
   "outputs": [
    {
     "data": {
      "text/plain": [
       "Index(['ovr_rating_bpi', 'wab', 'def_rating_kenpom', 'def_rating_torvik',\n",
       "       'reb%_off', 'to%_off', 'efg%_def', 'to%_def', 'eff_off', '2p%_def',\n",
       "       'ft%_def', 'height_eff', 'size', 'bench', 'adj_tempo', 's_c', 'c_a'],\n",
       "      dtype='object')"
      ]
     },
     "execution_count": 271,
     "metadata": {},
     "output_type": "execute_result"
    }
   ],
   "source": [
    "selected_feat"
   ]
  },
  {
   "cell_type": "code",
   "execution_count": 272,
   "id": "b2f9c335",
   "metadata": {},
   "outputs": [
    {
     "data": {
      "text/html": [
       "<style>#sk-container-id-68 {color: black;background-color: white;}#sk-container-id-68 pre{padding: 0;}#sk-container-id-68 div.sk-toggleable {background-color: white;}#sk-container-id-68 label.sk-toggleable__label {cursor: pointer;display: block;width: 100%;margin-bottom: 0;padding: 0.3em;box-sizing: border-box;text-align: center;}#sk-container-id-68 label.sk-toggleable__label-arrow:before {content: \"▸\";float: left;margin-right: 0.25em;color: #696969;}#sk-container-id-68 label.sk-toggleable__label-arrow:hover:before {color: black;}#sk-container-id-68 div.sk-estimator:hover label.sk-toggleable__label-arrow:before {color: black;}#sk-container-id-68 div.sk-toggleable__content {max-height: 0;max-width: 0;overflow: hidden;text-align: left;background-color: #f0f8ff;}#sk-container-id-68 div.sk-toggleable__content pre {margin: 0.2em;color: black;border-radius: 0.25em;background-color: #f0f8ff;}#sk-container-id-68 input.sk-toggleable__control:checked~div.sk-toggleable__content {max-height: 200px;max-width: 100%;overflow: auto;}#sk-container-id-68 input.sk-toggleable__control:checked~label.sk-toggleable__label-arrow:before {content: \"▾\";}#sk-container-id-68 div.sk-estimator input.sk-toggleable__control:checked~label.sk-toggleable__label {background-color: #d4ebff;}#sk-container-id-68 div.sk-label input.sk-toggleable__control:checked~label.sk-toggleable__label {background-color: #d4ebff;}#sk-container-id-68 input.sk-hidden--visually {border: 0;clip: rect(1px 1px 1px 1px);clip: rect(1px, 1px, 1px, 1px);height: 1px;margin: -1px;overflow: hidden;padding: 0;position: absolute;width: 1px;}#sk-container-id-68 div.sk-estimator {font-family: monospace;background-color: #f0f8ff;border: 1px dotted black;border-radius: 0.25em;box-sizing: border-box;margin-bottom: 0.5em;}#sk-container-id-68 div.sk-estimator:hover {background-color: #d4ebff;}#sk-container-id-68 div.sk-parallel-item::after {content: \"\";width: 100%;border-bottom: 1px solid gray;flex-grow: 1;}#sk-container-id-68 div.sk-label:hover label.sk-toggleable__label {background-color: #d4ebff;}#sk-container-id-68 div.sk-serial::before {content: \"\";position: absolute;border-left: 1px solid gray;box-sizing: border-box;top: 0;bottom: 0;left: 50%;z-index: 0;}#sk-container-id-68 div.sk-serial {display: flex;flex-direction: column;align-items: center;background-color: white;padding-right: 0.2em;padding-left: 0.2em;position: relative;}#sk-container-id-68 div.sk-item {position: relative;z-index: 1;}#sk-container-id-68 div.sk-parallel {display: flex;align-items: stretch;justify-content: center;background-color: white;position: relative;}#sk-container-id-68 div.sk-item::before, #sk-container-id-68 div.sk-parallel-item::before {content: \"\";position: absolute;border-left: 1px solid gray;box-sizing: border-box;top: 0;bottom: 0;left: 50%;z-index: -1;}#sk-container-id-68 div.sk-parallel-item {display: flex;flex-direction: column;z-index: 1;position: relative;background-color: white;}#sk-container-id-68 div.sk-parallel-item:first-child::after {align-self: flex-end;width: 50%;}#sk-container-id-68 div.sk-parallel-item:last-child::after {align-self: flex-start;width: 50%;}#sk-container-id-68 div.sk-parallel-item:only-child::after {width: 0;}#sk-container-id-68 div.sk-dashed-wrapped {border: 1px dashed gray;margin: 0 0.4em 0.5em 0.4em;box-sizing: border-box;padding-bottom: 0.4em;background-color: white;}#sk-container-id-68 div.sk-label label {font-family: monospace;font-weight: bold;display: inline-block;line-height: 1.2em;}#sk-container-id-68 div.sk-label-container {text-align: center;}#sk-container-id-68 div.sk-container {/* jupyter's `normalize.less` sets `[hidden] { display: none; }` but bootstrap.min.css set `[hidden] { display: none !important; }` so we also need the `!important` here to be able to override the default hidden behavior on the sphinx rendered scikit-learn.org. See: https://github.com/scikit-learn/scikit-learn/issues/21755 */display: inline-block !important;position: relative;}#sk-container-id-68 div.sk-text-repr-fallback {display: none;}</style><div id=\"sk-container-id-68\" class=\"sk-top-container\"><div class=\"sk-text-repr-fallback\"><pre>LogisticRegression(random_state=0)</pre><b>In a Jupyter environment, please rerun this cell to show the HTML representation or trust the notebook. <br />On GitHub, the HTML representation is unable to render, please try loading this page with nbviewer.org.</b></div><div class=\"sk-container\" hidden><div class=\"sk-item\"><div class=\"sk-estimator sk-toggleable\"><input class=\"sk-toggleable__control sk-hidden--visually\" id=\"sk-estimator-id-164\" type=\"checkbox\" checked><label for=\"sk-estimator-id-164\" class=\"sk-toggleable__label sk-toggleable__label-arrow\">LogisticRegression</label><div class=\"sk-toggleable__content\"><pre>LogisticRegression(random_state=0)</pre></div></div></div></div></div>"
      ],
      "text/plain": [
       "LogisticRegression(random_state=0)"
      ]
     },
     "execution_count": 272,
     "metadata": {},
     "output_type": "execute_result"
    }
   ],
   "source": [
    "X_train2 = X_train[['ovr_rating_bpi', 'wab', 'def_rating_kenpom', 'def_rating_torvik',\n",
    "                    'reb%_off', 'to%_off', 'efg%_def', 'to%_def', 'eff_off', '2p%_def',\n",
    "                    'ft%_def', 'height_eff', 'size', 'bench', 'adj_tempo', 's_c', 'c_a']]\n",
    "X_test2 = X_test[['ovr_rating_bpi', 'wab', 'def_rating_kenpom', 'def_rating_torvik',\n",
    "                  'reb%_off', 'to%_off', 'efg%_def', 'to%_def', 'eff_off', '2p%_def',\n",
    "                  'ft%_def', 'height_eff', 'size', 'bench', 'adj_tempo', 's_c', 'c_a']]\n",
    "\n",
    "\n",
    "clf = LogisticRegression(random_state=0)\n",
    "clf.fit(X_train2, y_train)"
   ]
  },
  {
   "cell_type": "code",
   "execution_count": 273,
   "id": "1f03fc50",
   "metadata": {},
   "outputs": [],
   "source": [
    "y_pred_train = clf.predict(X_train2)\n",
    "y_pred_test = clf.predict(X_test2)"
   ]
  },
  {
   "cell_type": "code",
   "execution_count": 274,
   "id": "a1bf629e",
   "metadata": {},
   "outputs": [
    {
     "name": "stdout",
     "output_type": "stream",
     "text": [
      "Accuracy Train:  0.8072916666666666\n",
      "Accuracy Test:  0.75\n",
      "Precision Train:  0.8172043010752689\n",
      "Precision Test:  0.7142857142857143\n",
      "Recall Train:  0.7916666666666666\n",
      "Recall Test:  0.7142857142857143\n",
      "F1 Train:  0.8042328042328043\n",
      "F1 Test:  0.7142857142857143\n",
      "ROC_AUC Train:  0.8072916666666665\n",
      "ROC_AUC Test:  0.746031746031746\n"
     ]
    }
   ],
   "source": [
    "print('Accuracy Train: ', accuracy_score(y_train, y_pred_train))\n",
    "print('Accuracy Test: ', accuracy_score(y_test, y_pred_test))\n",
    "\n",
    "print('Precision Train: ', precision_score(y_train, y_pred_train))\n",
    "print('Precision Test: ', precision_score(y_test, y_pred_test))\n",
    "      \n",
    "print('Recall Train: ', recall_score(y_train, y_pred_train))\n",
    "print('Recall Test: ', recall_score(y_test, y_pred_test))    \n",
    "\n",
    "print('F1 Train: ', f1_score(y_train, y_pred_train))\n",
    "print('F1 Test: ', f1_score(y_test, y_pred_test)) \n",
    "\n",
    "print('ROC_AUC Train: ', roc_auc_score(y_train, y_pred_train))\n",
    "print('ROC_AUC Test: ', roc_auc_score(y_test, y_pred_test)) "
   ]
  },
  {
   "cell_type": "markdown",
   "id": "90a50e4a",
   "metadata": {},
   "source": [
    "### RFE is better"
   ]
  },
  {
   "cell_type": "markdown",
   "id": "aac60f36",
   "metadata": {},
   "source": [
    "# IV. SVM"
   ]
  },
  {
   "cell_type": "code",
   "execution_count": 275,
   "id": "cf040f15",
   "metadata": {},
   "outputs": [
    {
     "data": {
      "text/html": [
       "<style>#sk-container-id-69 {color: black;background-color: white;}#sk-container-id-69 pre{padding: 0;}#sk-container-id-69 div.sk-toggleable {background-color: white;}#sk-container-id-69 label.sk-toggleable__label {cursor: pointer;display: block;width: 100%;margin-bottom: 0;padding: 0.3em;box-sizing: border-box;text-align: center;}#sk-container-id-69 label.sk-toggleable__label-arrow:before {content: \"▸\";float: left;margin-right: 0.25em;color: #696969;}#sk-container-id-69 label.sk-toggleable__label-arrow:hover:before {color: black;}#sk-container-id-69 div.sk-estimator:hover label.sk-toggleable__label-arrow:before {color: black;}#sk-container-id-69 div.sk-toggleable__content {max-height: 0;max-width: 0;overflow: hidden;text-align: left;background-color: #f0f8ff;}#sk-container-id-69 div.sk-toggleable__content pre {margin: 0.2em;color: black;border-radius: 0.25em;background-color: #f0f8ff;}#sk-container-id-69 input.sk-toggleable__control:checked~div.sk-toggleable__content {max-height: 200px;max-width: 100%;overflow: auto;}#sk-container-id-69 input.sk-toggleable__control:checked~label.sk-toggleable__label-arrow:before {content: \"▾\";}#sk-container-id-69 div.sk-estimator input.sk-toggleable__control:checked~label.sk-toggleable__label {background-color: #d4ebff;}#sk-container-id-69 div.sk-label input.sk-toggleable__control:checked~label.sk-toggleable__label {background-color: #d4ebff;}#sk-container-id-69 input.sk-hidden--visually {border: 0;clip: rect(1px 1px 1px 1px);clip: rect(1px, 1px, 1px, 1px);height: 1px;margin: -1px;overflow: hidden;padding: 0;position: absolute;width: 1px;}#sk-container-id-69 div.sk-estimator {font-family: monospace;background-color: #f0f8ff;border: 1px dotted black;border-radius: 0.25em;box-sizing: border-box;margin-bottom: 0.5em;}#sk-container-id-69 div.sk-estimator:hover {background-color: #d4ebff;}#sk-container-id-69 div.sk-parallel-item::after {content: \"\";width: 100%;border-bottom: 1px solid gray;flex-grow: 1;}#sk-container-id-69 div.sk-label:hover label.sk-toggleable__label {background-color: #d4ebff;}#sk-container-id-69 div.sk-serial::before {content: \"\";position: absolute;border-left: 1px solid gray;box-sizing: border-box;top: 0;bottom: 0;left: 50%;z-index: 0;}#sk-container-id-69 div.sk-serial {display: flex;flex-direction: column;align-items: center;background-color: white;padding-right: 0.2em;padding-left: 0.2em;position: relative;}#sk-container-id-69 div.sk-item {position: relative;z-index: 1;}#sk-container-id-69 div.sk-parallel {display: flex;align-items: stretch;justify-content: center;background-color: white;position: relative;}#sk-container-id-69 div.sk-item::before, #sk-container-id-69 div.sk-parallel-item::before {content: \"\";position: absolute;border-left: 1px solid gray;box-sizing: border-box;top: 0;bottom: 0;left: 50%;z-index: -1;}#sk-container-id-69 div.sk-parallel-item {display: flex;flex-direction: column;z-index: 1;position: relative;background-color: white;}#sk-container-id-69 div.sk-parallel-item:first-child::after {align-self: flex-end;width: 50%;}#sk-container-id-69 div.sk-parallel-item:last-child::after {align-self: flex-start;width: 50%;}#sk-container-id-69 div.sk-parallel-item:only-child::after {width: 0;}#sk-container-id-69 div.sk-dashed-wrapped {border: 1px dashed gray;margin: 0 0.4em 0.5em 0.4em;box-sizing: border-box;padding-bottom: 0.4em;background-color: white;}#sk-container-id-69 div.sk-label label {font-family: monospace;font-weight: bold;display: inline-block;line-height: 1.2em;}#sk-container-id-69 div.sk-label-container {text-align: center;}#sk-container-id-69 div.sk-container {/* jupyter's `normalize.less` sets `[hidden] { display: none; }` but bootstrap.min.css set `[hidden] { display: none !important; }` so we also need the `!important` here to be able to override the default hidden behavior on the sphinx rendered scikit-learn.org. See: https://github.com/scikit-learn/scikit-learn/issues/21755 */display: inline-block !important;position: relative;}#sk-container-id-69 div.sk-text-repr-fallback {display: none;}</style><div id=\"sk-container-id-69\" class=\"sk-top-container\"><div class=\"sk-text-repr-fallback\"><pre>SVC(kernel=&#x27;linear&#x27;, random_state=0)</pre><b>In a Jupyter environment, please rerun this cell to show the HTML representation or trust the notebook. <br />On GitHub, the HTML representation is unable to render, please try loading this page with nbviewer.org.</b></div><div class=\"sk-container\" hidden><div class=\"sk-item\"><div class=\"sk-estimator sk-toggleable\"><input class=\"sk-toggleable__control sk-hidden--visually\" id=\"sk-estimator-id-165\" type=\"checkbox\" checked><label for=\"sk-estimator-id-165\" class=\"sk-toggleable__label sk-toggleable__label-arrow\">SVC</label><div class=\"sk-toggleable__content\"><pre>SVC(kernel=&#x27;linear&#x27;, random_state=0)</pre></div></div></div></div></div>"
      ],
      "text/plain": [
       "SVC(kernel='linear', random_state=0)"
      ]
     },
     "execution_count": 275,
     "metadata": {},
     "output_type": "execute_result"
    }
   ],
   "source": [
    "from sklearn.svm import SVC\n",
    "\n",
    "clf = SVC(random_state=0, kernel='linear')\n",
    "clf.fit(X_train, y_train)"
   ]
  },
  {
   "cell_type": "code",
   "execution_count": 276,
   "id": "0e9db5ac",
   "metadata": {},
   "outputs": [],
   "source": [
    "y_pred_train = clf.predict(X_train)\n",
    "y_pred_test = clf.predict(X_test)"
   ]
  },
  {
   "cell_type": "code",
   "execution_count": 277,
   "id": "9c7dcd41",
   "metadata": {},
   "outputs": [
    {
     "name": "stdout",
     "output_type": "stream",
     "text": [
      "Accuracy Train:  0.8333333333333334\n",
      "Accuracy Test:  0.7291666666666666\n",
      "Precision Train:  0.8555555555555555\n",
      "Precision Test:  0.6818181818181818\n",
      "Recall Train:  0.8020833333333334\n",
      "Recall Test:  0.7142857142857143\n",
      "F1 Train:  0.8279569892473118\n",
      "F1 Test:  0.6976744186046512\n",
      "ROC_AUC Train:  0.8333333333333334\n",
      "ROC_AUC Test:  0.7275132275132274\n"
     ]
    }
   ],
   "source": [
    "print('Accuracy Train: ', accuracy_score(y_train, y_pred_train))\n",
    "print('Accuracy Test: ', accuracy_score(y_test, y_pred_test))\n",
    "\n",
    "print('Precision Train: ', precision_score(y_train, y_pred_train))\n",
    "print('Precision Test: ', precision_score(y_test, y_pred_test))\n",
    "      \n",
    "print('Recall Train: ', recall_score(y_train, y_pred_train))\n",
    "print('Recall Test: ', recall_score(y_test, y_pred_test))    \n",
    "\n",
    "print('F1 Train: ', f1_score(y_train, y_pred_train))\n",
    "print('F1 Test: ', f1_score(y_test, y_pred_test)) \n",
    "\n",
    "print('ROC_AUC Train: ', roc_auc_score(y_train, y_pred_train))\n",
    "print('ROC_AUC Test: ', roc_auc_score(y_test, y_pred_test))  "
   ]
  },
  {
   "cell_type": "markdown",
   "id": "0b8fa651",
   "metadata": {},
   "source": [
    "# V. Random Forest"
   ]
  },
  {
   "cell_type": "code",
   "execution_count": 278,
   "id": "e01a5787",
   "metadata": {},
   "outputs": [
    {
     "data": {
      "text/html": [
       "<style>#sk-container-id-70 {color: black;background-color: white;}#sk-container-id-70 pre{padding: 0;}#sk-container-id-70 div.sk-toggleable {background-color: white;}#sk-container-id-70 label.sk-toggleable__label {cursor: pointer;display: block;width: 100%;margin-bottom: 0;padding: 0.3em;box-sizing: border-box;text-align: center;}#sk-container-id-70 label.sk-toggleable__label-arrow:before {content: \"▸\";float: left;margin-right: 0.25em;color: #696969;}#sk-container-id-70 label.sk-toggleable__label-arrow:hover:before {color: black;}#sk-container-id-70 div.sk-estimator:hover label.sk-toggleable__label-arrow:before {color: black;}#sk-container-id-70 div.sk-toggleable__content {max-height: 0;max-width: 0;overflow: hidden;text-align: left;background-color: #f0f8ff;}#sk-container-id-70 div.sk-toggleable__content pre {margin: 0.2em;color: black;border-radius: 0.25em;background-color: #f0f8ff;}#sk-container-id-70 input.sk-toggleable__control:checked~div.sk-toggleable__content {max-height: 200px;max-width: 100%;overflow: auto;}#sk-container-id-70 input.sk-toggleable__control:checked~label.sk-toggleable__label-arrow:before {content: \"▾\";}#sk-container-id-70 div.sk-estimator input.sk-toggleable__control:checked~label.sk-toggleable__label {background-color: #d4ebff;}#sk-container-id-70 div.sk-label input.sk-toggleable__control:checked~label.sk-toggleable__label {background-color: #d4ebff;}#sk-container-id-70 input.sk-hidden--visually {border: 0;clip: rect(1px 1px 1px 1px);clip: rect(1px, 1px, 1px, 1px);height: 1px;margin: -1px;overflow: hidden;padding: 0;position: absolute;width: 1px;}#sk-container-id-70 div.sk-estimator {font-family: monospace;background-color: #f0f8ff;border: 1px dotted black;border-radius: 0.25em;box-sizing: border-box;margin-bottom: 0.5em;}#sk-container-id-70 div.sk-estimator:hover {background-color: #d4ebff;}#sk-container-id-70 div.sk-parallel-item::after {content: \"\";width: 100%;border-bottom: 1px solid gray;flex-grow: 1;}#sk-container-id-70 div.sk-label:hover label.sk-toggleable__label {background-color: #d4ebff;}#sk-container-id-70 div.sk-serial::before {content: \"\";position: absolute;border-left: 1px solid gray;box-sizing: border-box;top: 0;bottom: 0;left: 50%;z-index: 0;}#sk-container-id-70 div.sk-serial {display: flex;flex-direction: column;align-items: center;background-color: white;padding-right: 0.2em;padding-left: 0.2em;position: relative;}#sk-container-id-70 div.sk-item {position: relative;z-index: 1;}#sk-container-id-70 div.sk-parallel {display: flex;align-items: stretch;justify-content: center;background-color: white;position: relative;}#sk-container-id-70 div.sk-item::before, #sk-container-id-70 div.sk-parallel-item::before {content: \"\";position: absolute;border-left: 1px solid gray;box-sizing: border-box;top: 0;bottom: 0;left: 50%;z-index: -1;}#sk-container-id-70 div.sk-parallel-item {display: flex;flex-direction: column;z-index: 1;position: relative;background-color: white;}#sk-container-id-70 div.sk-parallel-item:first-child::after {align-self: flex-end;width: 50%;}#sk-container-id-70 div.sk-parallel-item:last-child::after {align-self: flex-start;width: 50%;}#sk-container-id-70 div.sk-parallel-item:only-child::after {width: 0;}#sk-container-id-70 div.sk-dashed-wrapped {border: 1px dashed gray;margin: 0 0.4em 0.5em 0.4em;box-sizing: border-box;padding-bottom: 0.4em;background-color: white;}#sk-container-id-70 div.sk-label label {font-family: monospace;font-weight: bold;display: inline-block;line-height: 1.2em;}#sk-container-id-70 div.sk-label-container {text-align: center;}#sk-container-id-70 div.sk-container {/* jupyter's `normalize.less` sets `[hidden] { display: none; }` but bootstrap.min.css set `[hidden] { display: none !important; }` so we also need the `!important` here to be able to override the default hidden behavior on the sphinx rendered scikit-learn.org. See: https://github.com/scikit-learn/scikit-learn/issues/21755 */display: inline-block !important;position: relative;}#sk-container-id-70 div.sk-text-repr-fallback {display: none;}</style><div id=\"sk-container-id-70\" class=\"sk-top-container\"><div class=\"sk-text-repr-fallback\"><pre>RandomForestClassifier(criterion=&#x27;entropy&#x27;, random_state=0)</pre><b>In a Jupyter environment, please rerun this cell to show the HTML representation or trust the notebook. <br />On GitHub, the HTML representation is unable to render, please try loading this page with nbviewer.org.</b></div><div class=\"sk-container\" hidden><div class=\"sk-item\"><div class=\"sk-estimator sk-toggleable\"><input class=\"sk-toggleable__control sk-hidden--visually\" id=\"sk-estimator-id-166\" type=\"checkbox\" checked><label for=\"sk-estimator-id-166\" class=\"sk-toggleable__label sk-toggleable__label-arrow\">RandomForestClassifier</label><div class=\"sk-toggleable__content\"><pre>RandomForestClassifier(criterion=&#x27;entropy&#x27;, random_state=0)</pre></div></div></div></div></div>"
      ],
      "text/plain": [
       "RandomForestClassifier(criterion='entropy', random_state=0)"
      ]
     },
     "execution_count": 278,
     "metadata": {},
     "output_type": "execute_result"
    }
   ],
   "source": [
    "from sklearn.ensemble import RandomForestClassifier\n",
    "\n",
    "clf = RandomForestClassifier(random_state=0, n_estimators=100, criterion='entropy')\n",
    "clf.fit(X_train, y_train)"
   ]
  },
  {
   "cell_type": "code",
   "execution_count": 279,
   "id": "da1fc5a3",
   "metadata": {},
   "outputs": [],
   "source": [
    "y_pred_train = clf.predict(X_train)\n",
    "y_pred_test = clf.predict(X_test)"
   ]
  },
  {
   "cell_type": "code",
   "execution_count": 280,
   "id": "ac5c79bd",
   "metadata": {},
   "outputs": [
    {
     "name": "stdout",
     "output_type": "stream",
     "text": [
      "Accuracy Train:  1.0\n",
      "Accuracy Test:  0.8541666666666666\n",
      "Precision Train:  1.0\n",
      "Precision Test:  0.85\n",
      "Recall Train:  1.0\n",
      "Recall Test:  0.8095238095238095\n",
      "F1 Train:  1.0\n",
      "F1 Test:  0.8292682926829269\n",
      "ROC_AUC Train:  1.0\n",
      "ROC_AUC Test:  0.8492063492063492\n"
     ]
    }
   ],
   "source": [
    "print('Accuracy Train: ', accuracy_score(y_train, y_pred_train))\n",
    "print('Accuracy Test: ', accuracy_score(y_test, y_pred_test))\n",
    "\n",
    "print('Precision Train: ', precision_score(y_train, y_pred_train))\n",
    "print('Precision Test: ', precision_score(y_test, y_pred_test))\n",
    "      \n",
    "print('Recall Train: ', recall_score(y_train, y_pred_train))\n",
    "print('Recall Test: ', recall_score(y_test, y_pred_test))    \n",
    "\n",
    "print('F1 Train: ', f1_score(y_train, y_pred_train))\n",
    "print('F1 Test: ', f1_score(y_test, y_pred_test)) \n",
    "\n",
    "print('ROC_AUC Train: ', roc_auc_score(y_train, y_pred_train))\n",
    "print('ROC_AUC Test: ', roc_auc_score(y_test, y_pred_test)) "
   ]
  },
  {
   "cell_type": "markdown",
   "id": "0ed45f7d",
   "metadata": {},
   "source": [
    "# VI. Full DF"
   ]
  },
  {
   "cell_type": "code",
   "execution_count": 281,
   "id": "35723830",
   "metadata": {},
   "outputs": [],
   "source": [
    "comp_df = df[['year', \n",
    "              'region', \n",
    "              'round', \n",
    "              'high_bracket_seed', \n",
    "              'high_bracket_team',\n",
    "              'low_bracket_seed', \n",
    "              'low_bracket_team', \n",
    "              'win']]\n",
    "              \n",
    "df = df.drop(columns=['year', \n",
    "                      'region', \n",
    "                      'round', \n",
    "                      'high_bracket_seed', \n",
    "                      'high_bracket_team',\n",
    "                      'low_bracket_seed', \n",
    "                      'low_bracket_team', \n",
    "                      'win'\n",
    "                     ])\n",
    "log_pred = rfe.predict(df)\n",
    "comp_df['log_pred'] = log_pred\n",
    "comp_df['log_comp'] = comp_df['win'] - comp_df['log_pred']\n",
    "rf_pred = clf.predict(df)\n",
    "comp_df['rf_pred'] = rf_pred\n",
    "comp_df['rf_comp'] = comp_df['win'] - comp_df['rf_pred']"
   ]
  },
  {
   "cell_type": "markdown",
   "id": "3961b6c9",
   "metadata": {},
   "source": [
    "### Random Forest is at 81%. Logistic Regression is at 71%. Goal is 87.5% (Average 14 per year)"
   ]
  },
  {
   "cell_type": "markdown",
   "id": "2ffa451f",
   "metadata": {},
   "source": [
    "## Next Steps: Boosting, PCA, Test different features for Logistic Regression"
   ]
  }
 ],
 "metadata": {
  "kernelspec": {
   "display_name": "Python 3 (ipykernel)",
   "language": "python",
   "name": "python3"
  },
  "language_info": {
   "codemirror_mode": {
    "name": "ipython",
    "version": 3
   },
   "file_extension": ".py",
   "mimetype": "text/x-python",
   "name": "python",
   "nbconvert_exporter": "python",
   "pygments_lexer": "ipython3",
   "version": "3.8.12"
  }
 },
 "nbformat": 4,
 "nbformat_minor": 5
}
